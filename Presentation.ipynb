{
 "cells": [
  {
   "cell_type": "markdown",
   "metadata": {
    "extensions": {
     "jupyter_dashboards": {
      "version": 1,
      "views": {
       "grid_default": {
        "col": 0,
        "height": 4,
        "hidden": false,
        "row": 0,
        "width": 8
       },
       "report_default": {}
      }
     }
    }
   },
   "source": [
    "# Lane Changing Strategies in 2D Traffic Cellular Automata\n"
   ]
  },
  {
   "cell_type": "markdown",
   "metadata": {
    "extensions": {
     "jupyter_dashboards": {
      "version": 1,
      "views": {
       "grid_default": {
        "col": 8,
        "height": 4,
        "hidden": false,
        "row": 0,
        "width": 4
       },
       "report_default": {}
      }
     }
    }
   },
   "source": [
    "## Kees Til, Azer Aras, Mike de Haan"
   ]
  },
  {
   "cell_type": "markdown",
   "metadata": {
    "extensions": {
     "jupyter_dashboards": {
      "version": 1,
      "views": {
       "grid_default": {
        "col": 8,
        "height": 14,
        "hidden": false,
        "row": 35,
        "width": 4
       },
       "report_default": {}
      }
     }
    }
   },
   "source": [
    "Lorem ipsum dolor sit amet, consectetur adipiscing elit. Nunc mi enim, vestibulum ut consectetur nec, fringilla id nulla. Suspendisse in elit non lectus aliquam condimentum. Mauris cursus vestibulum facilisis. In congue varius suscipit. Phasellus luctus efficitur metus. Vivamus vestibulum, libero et porttitor laoreet, arcu diam consectetur dolor, id efficitur mi enim ac lorem. Curabitur sagittis rutrum odio in consectetur. Sed eget justo a eros commodo tempor. Nullam pretium, ligula sit amet laoreet malesuada, eros massa accumsan libero, a posuere libero lacus nec leo. Lorem ipsum dolor sit amet, consectetur adipiscing elit. Donec accumsan vestibulum elit, ac vehicula velit viverra nec. Aenean cursus pulvinar scelerisque. Sed ullamcorper orci mauris, eget efficitur nisl gravida in. Fusce id risus id justo fringilla semper ac vel elit. Aenean non magna lorem.\n",
    "\n"
   ]
  },
  {
   "cell_type": "markdown",
   "metadata": {},
   "source": [
    "![title](figure_1.png)"
   ]
  },
  {
   "cell_type": "markdown",
   "metadata": {
    "extensions": {
     "jupyter_dashboards": {
      "version": 1,
      "views": {
       "grid_default": {
        "col": 8,
        "height": 4,
        "hidden": false,
        "row": 4,
        "width": 4
       },
       "report_default": {}
      }
     }
    }
   },
   "source": [
    "2D cellular automata allow the simulation of traffic by ....\n"
   ]
  },
  {
   "cell_type": "code",
   "execution_count": 1,
   "metadata": {
    "collapsed": true,
    "extensions": {
     "jupyter_dashboards": {
      "version": 1,
      "views": {
       "grid_default": {
        "col": 8,
        "height": 6,
        "hidden": false,
        "row": 49,
        "width": 4
       },
       "report_default": {
        "hidden": true
       }
      }
     }
    }
   },
   "outputs": [],
   "source": [
    "import numpy as np\n",
    "from copy import deepcopy\n",
    "import matplotlib.pyplot as plt\n",
    "import matplotlib.animation as animation\n",
    "import matplotlib.patches as patches\n",
    "import itertools\n",
    "from IPython.display import HTML\n",
    "from matplotlib import rc\n",
    "\n",
    "from ipywidgets import interact, interactive, fixed, interact_manual\n",
    "import ipywidgets as widgets\n",
    "\n",
    "\n",
    "# rc('animation', html='none')\n",
    "%matplotlib notebook\n",
    "# %matplotlib nbagg\n",
    "# % matplotlib inline"
   ]
  },
  {
   "cell_type": "code",
   "execution_count": 2,
   "metadata": {
    "collapsed": true,
    "extensions": {
     "jupyter_dashboards": {
      "version": 1,
      "views": {
       "grid_default": {
        "hidden": true
       },
       "report_default": {
        "hidden": true
       }
      }
     }
    }
   },
   "outputs": [],
   "source": [
    "################################## Stuff for the model  #######################\n",
    "class Car(object):\n",
    "\tdef __init__(self, vMax, vIn, pos, ID):\n",
    "\t\t'''\n",
    "\t\tA simple car object which holds the properties for each individual 'state'\n",
    "\t\t\n",
    "\t\t@param vMax: Maximum speed for this car\n",
    "\t\t@param vIn: Initial speed of the car\n",
    "\t\t@param pos: Initial position of the car (tuple of coordinates of grid)\n",
    "\t\t@param ID: The id of the vehicle\n",
    "\t\t'''\n",
    "\t\tself.vMax = vMax\n",
    "\t\tself.v = vIn  # Current speed of the car\n",
    "\t\tself.posCurrent = pos # Most recent position at timestep i\n",
    "\t\tself.posPrevious = pos  # Position at timestep i-1 for animation purposes\n",
    "\t\tself.ID = ID  # Id of the car on the grid\n",
    "\n",
    "class CAtwoD(object):\n",
    "\tdef __init__(self, N, M, start, pSlow, maxvel, pChange, strategy):\n",
    "\t\t'''\n",
    "\t\tThe object containing the grid and the logic of the model\n",
    "\t\t\n",
    "\t\t@param N: The amount of grids in the x direction\n",
    "\t\t@param M: The amount of grids in the y direction(no. of lanes)\n",
    "\t\t@param start: A list of car objects to put on the grid\n",
    "\t\t@param pSlot: The Nagel-Schreckenberg slowdown probability\n",
    "\t\t@param maxvel: Maximum velocity (deprecated as each car has one..)\n",
    "\t\t@param pChange: Lane changing probability in the retard model.\n",
    "\t\t'''\n",
    "\t\tself.N, self.M = N, M\n",
    "\t\tself.grid = np.zeros((N,M), dtype=int) # Used mostly as reference\n",
    "\t\tself.pSlow, self.pChange = pSlow, pChange\n",
    "\t\tself.strategy = strategy\n",
    "\t\tself.maxvel = maxvel\n",
    "\t\tself.cars = len(start)  # Amount of cars on the road..\n",
    "\t\t\n",
    "\t\tself.carIndex = {}\n",
    "\t\t\n",
    "\t\tfor car in start:\n",
    "\t\t\tself.carIndex[car.ID] = deepcopy(car)  # Copy the car object according to id\n",
    "\t\t\tself.grid[car.posCurrent] = car.ID  # Add the car id's on the grid\n",
    "\t\t\t\n",
    "\t\tself.fluxCounter = 0  # Can be used to measure congestion.\t\n",
    "\n",
    "\tdef changeCriteria(self, ID, lane):\n",
    "\t\t'''\n",
    "\t\tFunction which finds the gap between the vehicle in front, behind, relative\n",
    "\t\tvelocities between the vehicles. This data should allow for the information\n",
    "\t\ta car needs to decide between changing lanes\n",
    "\t\t\n",
    "\t\t@param ID: ID of the car we want to find the data for\n",
    "\t\t@param lane: For which lane we want to estimate this (can be current or\n",
    "\t\tneighbouring lanes)\n",
    "\t\t'''\n",
    "\t\t\n",
    "\t\tcurrentCar = self.carIndex[ID]\n",
    "\t\ti, j = currentCar.posCurrent[0], lane\n",
    "\t\t\n",
    "\t\t\n",
    "\t\t# Find the gap in front, and velocity of car in front if applicable\n",
    "\t\tfrontGap = self.maxvel  # init at max value road\n",
    "\t\tfrontVel = 0\n",
    "\t\tfor k in range(1, self.maxvel + 1):\n",
    "\n",
    "\t\t\tif self.grid[(i+k) % self.N, j] != 0:  # Car is found\n",
    "\t\t\t\tfrontGap = k-1 \n",
    "\t\t\t\tfrontVel = self.carIndex[self.grid[(i+k) % self.N, j]].v\n",
    "\t\t\t\tbreak\n",
    "\t\t\t\n",
    "\t\t# Find the gap at back and the velocity if applicable\n",
    "\t\t\n",
    "\t\t\t\t# Find the gap in front\n",
    "\t\tbackGap = self.maxvel  # init at max value road\n",
    "\t\tbackVel = 0\n",
    "\t\tfor k in range(1, self.maxvel + 1):\n",
    "\n",
    "\t\t\tif self.grid[(i-k) % self.N, j] != 0:  # Car is found\n",
    "\t\t\t\tbackGap = k-1 \n",
    "\t\t\t\tbackVel = self.carIndex[self.grid[(i-k) % self.N, j]].v\n",
    "\t\t\t\tbreak\n",
    "\t\t\t\n",
    "\t\treturn frontGap, frontVel, backGap, backVel\n",
    "\n",
    "\t\t\t\n",
    "\tdef laneChangeRandom(self):\n",
    "\t\t'''\n",
    "\t\tThe lane changing logic which is performed before the movement is executed\n",
    "\t\t'''\n",
    "\t\tfor car in self.carIndex.values():\n",
    "\t\t\ti, j = car.posCurrent[0], car.posCurrent[1]\n",
    "\t\t\t# Say a vehicle changes lanes at random if the lane next to it\n",
    "\t\t\t# has room (a vacant space) next to it\n",
    "\n",
    "\t\t\tpossShifts = []\n",
    "\t\t\tif j - 1 >= 0:\n",
    "\t\t\t\tif self.grid[i,j-1] == False:\n",
    "\t\t\t\t\tpossShifts.append(-1)\n",
    "\t\t\tif j + 1 < self.M:\n",
    "\t\t\t\tif self.grid[i,j+1] == False:\n",
    "\t\t\t\t\tpossShifts.append(1)\n",
    "\t\t\t\t\t\n",
    "\t\t\tif len(possShifts) > 0 and np.random.rand() < self.pChange:\n",
    "\t\t\t\tshift = np.random.choice(possShifts)\n",
    "\t\t\t\n",
    "\t\t\t\tcar.posCurrent = (i, j+shift) # Change lane in car\n",
    "\t\t\t\t\n",
    "\t\t\t\t# Update the data in the grid\n",
    "\t\t\t\tself.grid[i,j] = 0\n",
    "\t\t\t\tself.grid[i, j+shift] = car.ID\n",
    "\t\t\t\t\n",
    "\n",
    "\tdef laneChangeMike(self):\n",
    "\t\t'''\n",
    "\t\tThe lane changing logic which is performed before the movement is executed\n",
    "\t\tThis one tries to only change lanes when it is desirable to do so\n",
    "\t\t'''\n",
    "\n",
    "\t\tfor car in self.carIndex.values():\n",
    "\t\t\ti, j = car.posCurrent[0], car.posCurrent[1]\n",
    "\t\t\t# Check in either lanes that are possible if it is desirable to change\n",
    "\t\t\t# lane, by checking if at least the current speed can be maintained\n",
    "\t\t\t# If the current lane allows this, a lane change is not done\n",
    "\t\t\t\n",
    "\t\t\tpossShifts = [] # Store the shifts that might be done\n",
    "\t\t\t\t\t\n",
    "\t\t\tfrontGap, frontVel, backGap, backVel = self.changeCriteria(car.ID, j)\n",
    "\t\t\t\n",
    "\t\t\t# All logic for the left lane resides here\n",
    "\t\t\tif j - 1 >= 0: # The left lane actually exists\n",
    "\t\t\t\tleftFrontGap, leftFrontVel, leftBackGap, leftBackVel = self.changeCriteria(car.ID, j-1)\n",
    "\t\t\t\t\n",
    "\t\t\t\t# Check if the position in the other lane is free\n",
    "\t\t\t\tif self.grid[i, j-1] == 0:\n",
    "\t\t\t\t\tswitchPos = True\n",
    "\t\t\t\telse:\n",
    "\t\t\t\t\tswitchPos = False\n",
    "\t\t\t\t\t\n",
    "\t\t\t\t# Check if the lanechange would allow maintaining of increasing speed\n",
    "\t\t\t\tif leftFrontGap >= frontGap:\n",
    "\t\t\t\t\tswitchAdvantage = True\n",
    "\t\t\t\telse:\n",
    "\t\t\t\t\tswitchAdvantage = False\n",
    "\t\t\t\t\t\n",
    "\t\t\t\t# Check if the car on the other lane would need to brake hard..\n",
    "\t\t\t\tif leftBackGap - leftBackVel >= -1: # arbitrare limit..\n",
    "\t\t\t\t\tswitchSafe = True \n",
    "\t\t\t\telse:\n",
    "\t\t\t\t\tswitchSafe = False\n",
    "\t\t\t\t\t\n",
    "\t\t\t\tif switchPos and switchAdvantage and switchSafe:\n",
    "\t\t\t\t\tpossShifts.append(-1)\n",
    "\t\t\t\t\t\n",
    "\t\t\t# Right side logic\n",
    "\t\t\tif j + 1 < self.M : # The right lane actually exists\n",
    "\t\t\t\trightFrontGap, rightFrontVel, rightBackGap, rightBackVel = self.changeCriteria(car.ID, j+1)\n",
    "\t\t\t\t\n",
    "\t\t\t\t# Check if the position in the other lane is free\n",
    "\t\t\t\tif self.grid[i, j+1] == 0:\n",
    "\t\t\t\t\tswitchPos = True\n",
    "\t\t\t\telse:\n",
    "\t\t\t\t\tswitchPos = False\n",
    "\t\t\t\t\t\n",
    "\t\t\t\t# Check if the lanechange would allow maintaining of increasing speed\n",
    "\t\t\t\tif rightFrontGap >= frontGap:\n",
    "\t\t\t\t\tswitchAdvantage = True\n",
    "\t\t\t\telse:\n",
    "\t\t\t\t\tswitchAdvantage = False\n",
    "\t\t\t\t\t\n",
    "\t\t\t\t# Check if the car on the other lane would need to brake hard..\n",
    "\t\t\t\tif rightBackGap - rightBackVel >= -1: # arbitrare limit..\n",
    "\t\t\t\t\tswitchSafe = True \n",
    "\t\t\t\telse:\n",
    "\t\t\t\t\tswitchSafe = False\n",
    "\t\t\t\t\t\n",
    "\t\t\t\tif switchPos and switchAdvantage and switchSafe:\n",
    "\t\t\t\t\tpossShifts.append(1)\n",
    "\t\t\t\t\t\n",
    "\t\t\t\t\t\n",
    "\t\t\t# Logic regarding actually doing the lane change resides here\n",
    "\t\t\tif len(possShifts) > 0 and np.random.rand() < self.pChange:\n",
    "\t\t\t\tshift = np.random.choice(possShifts)\n",
    "\t\t\t\tcar.posCurrent = (i, j+shift) # Change lane in car\n",
    "\t\t\t\t\n",
    "\t\t\t\t# Update the data in the grid\n",
    "\t\t\t\tself.grid[i,j] = 0\n",
    "\t\t\t\tself.grid[i, j+shift] = car.ID\n",
    "\t\t\t\n",
    "\t\n",
    "#\tdef laneChangeAzer(self):\n",
    "#\t\tfor car in self.carIndex.values():\n",
    "#\t\t\ti, j = car.posCurrent[0], car.posCurrent[1]\t\t\n",
    "#\t\t\tfrontGap, frontVel, backGap, backVel = self.changeCriteria(car.ID, j)\t\t\t\t\t\t\t\t\t\t\t\n",
    "\t\t\t\t\t\n",
    "\tdef moveTimeStep(self):\n",
    "\t\t''' \n",
    "\t\tSimulate the movement of each of the vehicles according to Nagel-Schrecken\n",
    "\t\t'''\n",
    "\n",
    "\t\t# First increase speed with 1 if maxspeed has not been reached\n",
    "\t\t# All these functions use the positions of the car objects and reference\n",
    "\t\t# the grid for finding id and updating the position in the grid\n",
    "\t\tfor car in self.carIndex.values():  \n",
    "\t\t\tif car.v < car.vMax:\n",
    "\t\t\t\tcar.v += 1\n",
    "\t\t\t\t\n",
    "\t\t# Check if any cars in front are within maxspeed distance and slow down\n",
    "\t\tfor car in self.carIndex.values():\n",
    "\t\t\t\n",
    "\t\t\tfor j in range(1, car.v + 1):\n",
    "\t\t\t\tif self.grid[(car.posCurrent[0] + j) % self.N, car.posCurrent[1]]:\n",
    "\t\t\t\t\tcar.v = j-1  # Reduce speed so a crash is prevented\n",
    "\t\t\t\t\tbreak # No need to check other squares further in front\n",
    "\t\t\t\t\t\n",
    "\t\t# Randomize speeds/slowdowns\n",
    "\t\tfor car in self.carIndex.values():\n",
    "\t\t\tif np.random.rand() < self.pSlow and car.v > 0:\n",
    "\t\t\t\tcar.v  -= 1\n",
    "\t\t\t\n",
    "\t\t# Move the cars forward depending on their speed\n",
    "\t\tfor car in self.carIndex.values():\n",
    "\t\t\t# Generate the new position of this car\n",
    "\t\t\tposCurrent = car.posCurrent\n",
    "\t\t\tnewPos = ((posCurrent[0] + car.v) % self.N, posCurrent[1])\n",
    "\t\t\t\n",
    "\t\t\t# Update the grid\n",
    "\t\t\tself.grid[posCurrent] = 0\n",
    "\t\t\tself.grid[newPos] = car.ID\n",
    "\t\t\t\n",
    "\t\t\t# The moment when a car passes the periodic boundary\n",
    "\t\t\tif (posCurrent[0] + car.v) >= self.N:\n",
    "\t\t\t\tself.fluxCounter += 1\n",
    "\t\t\t\n",
    "\t\t\t# Update the position of the car object\n",
    "\t\t\tcar.posCurrent = newPos\n",
    "\t\t\n",
    "\t\t\n",
    "\tdef updateGrid(self):\n",
    "\t\t'''\n",
    "\t\tThe updating step doing all the actions for a timestep\n",
    "\t\t'''\n",
    "\t\t\n",
    "\t\t# First update the previous position for each of the cars to the current pos\n",
    "\t\tfor i in self.carIndex.keys():\n",
    "\t\t\tself.carIndex[i].posPrevious = self.carIndex[i].posCurrent\n",
    "\t\t\t\t\n",
    "\t\tif self.strategy == 'random':\n",
    "\t\t\tself.laneChangeRandom()\n",
    "\t\telif self.strategy == 'mike':\n",
    "\t\t\tself.laneChangeMike()\n",
    "\t\t\t\n",
    "\t\tself.moveTimeStep()\n",
    "\t\n",
    "\tdef returnAverageVelocity(self):\n",
    "\t\t'''\n",
    "\t\tReturn the average velocity at some timestep over all the vehicles\n",
    "\t\t'''\n",
    "\t\tavSpeed = 0\n",
    "\t\t\n",
    "\t\tfor car in self.carIndex.values():\n",
    "\t\t\tavSpeed += car.v\n",
    "\t\treturn avSpeed/len(self.carIndex.keys())\n",
    "\t\n",
    "\tdef returnPlotState(self):\n",
    "\t\t'''\n",
    "\t\tReturns the previous and current position of the car as well as the speeds\n",
    "\t\twhich can be used for the animation.\n",
    "\t\t'''\n",
    "\t\tplotState, distances = [], []\n",
    "\t\tfor car in self.carIndex.values():\n",
    "\t\t\tplotState.append((car.posPrevious, car.posCurrent))\n",
    "\t\t\tdistances.append(car.v)\n",
    "\t\treturn plotState, distances\n",
    "\t\n",
    "\tdef returnJamStatistics(self):\n",
    "\t\t'''\n",
    "\t\tDefine a traffic jam as a group of vehicles in the vicinity of each other\n",
    "\t\twhich have a speed of\n",
    "\t\t'''\n",
    "\t\t\n",
    "\t\tjamLengths = []\n",
    "\t\tfor j in range(self.M):\n",
    "\t\t\tlane = list(np.greater(self.grid[:,j], 0))\n",
    "\t\t\tjamLane = [ sum( 1 for _ in group ) for key, group in itertools.groupby( lane ) if key ]\n",
    "\t\t\tfor i in jamLane:\n",
    "\t\t\t\tif i == 1:\n",
    "\t\t\t\t\tcontinue\n",
    "\t\t\t\telse:\n",
    "\t\t\t\t\tjamLengths.append(i)\n",
    "\t\t\t\t\t\n",
    "\t\treturn jamLengths\n",
    "\n",
    "\t\t\t\t\n",
    "\t\n",
    "\t\n",
    "def generateStart(N, M, num, maxV):\n",
    "\t'''\n",
    "\tGenerates a list of tuples containing grid coordinates on which vehicles are\n",
    "\tinitialized\n",
    "\t\n",
    "\t@param N: Amount of discretizations in the x-direction\n",
    "\t@param M: Amount of discretizations in the y-direction (lanes)\n",
    "\t@param num: Amount of vehicles to generate. Must be <= N*M\n",
    "\t'''\n",
    "\t\n",
    "\tstart = set()  # Set to prevent duplicates\n",
    "\t\n",
    "\twhile len(start) < num:\n",
    "\t\tstart.add((np.random.randint(0, N), np.random.randint(0, M)))\n",
    "\t\t\n",
    "\tcars = []\n",
    "\tstart = list(start)\n",
    "\tfor i in range(len(start)):\n",
    "\t\tcars.append(Car(maxV,1,start[i], i+1))\n",
    "\t\t\n",
    "\treturn cars\n",
    "\n",
    "'''\n",
    "__________________________________\n",
    "Executing an instance of the CA\n",
    "__________________________________\n",
    "'''\n",
    "\n",
    "\n",
    "\n",
    "'''\n",
    "___________________________________\n",
    "Everything related to the animation \n",
    "___________________________________\n",
    "'''\n",
    "\t\n",
    "def findCoors(N, M, xmin, xmax, ymin, ymax ):\n",
    "    '''\n",
    "    Subdivide the x and y into N and M parts for the backgrounds\n",
    "    ''' \n",
    "    dx, dy = float(xmax - xmin)/N, float(ymax - ymin)/M \n",
    "    coors = []\n",
    "    trans = {}\n",
    "    for i in zip(np.linspace(xmin, xmax, N), range(N)):\n",
    "        for j in zip(np.linspace(ymax, ymin, M), range(M)):\n",
    "            coors.append((i[0], j[0]))\n",
    "            trans[(i[1], j[1])] = (i[0] + dx/2, j[0] + dy/2)\n",
    "            \n",
    "    return coors, float(xmax - xmin)/N, float(ymax - ymin)/M , trans\n",
    "\n",
    "\n",
    "def init():\n",
    "\tline.set_data([], [])\n",
    "\ttime_text.set_text('')\n",
    "\treturn line, time_text\n",
    "\n",
    "def animateDataGen(lim):\n",
    "\tn = 0\n",
    "\tmaxDist = xmax + dx\n",
    "\twhile n < lim:\n",
    "\t\ttest.updateGrid()\n",
    "\t\tpoints, vels = test.returnPlotState()\n",
    "\t\trealSpacePoints = []\n",
    "\t\trealSpaceDistances = []\n",
    "\t\t\n",
    "\t\t# Translate the grid coordinates to real space\n",
    "\t\tfor i in range(len(vels)):\n",
    "\t\t\trealSpacePoints.append([trans[points[i][0]], trans[points[i][1]]])\n",
    "\t\t\trealSpaceDistances.append(dx*vels[i])\n",
    "\t\t\t\n",
    "\t\t# Create two arrays, containing intermediate x and y coordinates\n",
    "\t\txPoints, yPoints = [], []\n",
    "\t\t\n",
    "\t\tfor i in range(len(vels)):\n",
    "\t\t\txCoors = np.linspace(realSpacePoints[i][0][0], \n",
    "\t\t\t\t\t\t\t\t\t\trealSpacePoints[i][0][0] + realSpaceDistances[i], \n",
    "\t\t\t\t\t\t\t\t\t\tsteps) % maxDist\n",
    "\t\t\tyCoors = np.linspace(realSpacePoints[i][0][1], realSpacePoints[i][1][1], steps)\n",
    "\n",
    "\t\t\txPoints.append(xCoors)\n",
    "\t\t\tyPoints.append(yCoors)\n",
    "\n",
    "\t\t# Run through each of the coordinates and yield a list of x and y plot vals\n",
    "\t\tfor i in range(steps - 1):\n",
    "\t\t\txList, yList = [], []\n",
    "\t\t\tfor j in range(len(vels)):\n",
    "\t\t\t\txList.append(xPoints[j][i])\n",
    "\t\t\t\tyList.append(yPoints[j][i])\n",
    "\t\t\tyield xList, yList\n",
    "\t\t\t\n",
    "\t\tn += 1\n",
    "\n",
    "\n",
    "def animate2(i):\n",
    "    try:\n",
    "        thisx, thisy = next(dataGen)\n",
    "    except:\n",
    "        thisx, thisy = [], []\n",
    "    ycoordinates.extend(thisy)\n",
    "    \n",
    "    line.set_data(thisx, thisy)\n",
    "    time_text.set_text(time_template.format(int(i/steps), i%steps,test.fluxCounter))\n",
    "\t\n",
    "\t\n",
    "    return line, time_text\n",
    "\n",
    "\n",
    "\n"
   ]
  },
  {
   "cell_type": "code",
   "execution_count": 3,
   "metadata": {
    "collapsed": true,
    "extensions": {
     "jupyter_dashboards": {
      "version": 1,
      "views": {
       "grid_default": {
        "col": 0,
        "height": 17,
        "hidden": true,
        "row": 0,
        "width": 9
       },
       "report_default": {
        "hidden": false
       }
      }
     }
    }
   },
   "outputs": [],
   "source": [
    "def animationShow(N,M,carnum, pChange, pSlow, strategy, maxVel):\n",
    "    \n",
    "    def findCoors(N, M, xmin, xmax, ymin, ymax ):\n",
    "        '''\n",
    "        Subdivide the x and y into N and M parts for the backgrounds\n",
    "        ''' \n",
    "        dx, dy = float(xmax - xmin)/N, float(ymax - ymin)/M \n",
    "        coors = []\n",
    "        trans = {}\n",
    "        for i in zip(np.linspace(xmin, xmax, N), range(N)):\n",
    "            for j in zip(np.linspace(ymax, ymin, M), range(M)):\n",
    "                coors.append((i[0], j[0]))\n",
    "                trans[(i[1], j[1])] = (i[0] + dx/2, j[0] + dy/2)\n",
    "\n",
    "        return coors, float(xmax - xmin)/N, float(ymax - ymin)/M , trans\n",
    "\n",
    "\n",
    "    def init():\n",
    "        line.set_data([], [])\n",
    "        time_text.set_text('')\n",
    "        return line, time_text\n",
    "\n",
    "    def animateDataGen(lim):\n",
    "        n = 0\n",
    "        maxDist = xmax + dx\n",
    "        while n < lim:\n",
    "            test.updateGrid()\n",
    "            points, vels = test.returnPlotState()\n",
    "            realSpacePoints = []\n",
    "            realSpaceDistances = []\n",
    "\n",
    "            # Translate the grid coordinates to real space\n",
    "            for i in range(len(vels)):\n",
    "                realSpacePoints.append([trans[points[i][0]], trans[points[i][1]]])\n",
    "                realSpaceDistances.append(dx*vels[i])\n",
    "\n",
    "            # Create two arrays, containing intermediate x and y coordinates\n",
    "            xPoints, yPoints = [], []\n",
    "\n",
    "            for i in range(len(vels)):\n",
    "                xCoors = np.linspace(realSpacePoints[i][0][0], \n",
    "                                            realSpacePoints[i][0][0] + realSpaceDistances[i], \n",
    "                                            steps) % maxDist\n",
    "                yCoors = np.linspace(realSpacePoints[i][0][1], realSpacePoints[i][1][1], steps)\n",
    "\n",
    "                xPoints.append(xCoors)\n",
    "                yPoints.append(yCoors)\n",
    "\n",
    "            # Run through each of the coordinates and yield a list of x and y plot vals\n",
    "            for i in range(steps - 1):\n",
    "                xList, yList = [], []\n",
    "                for j in range(len(vels)):\n",
    "                    xList.append(xPoints[j][i])\n",
    "                    yList.append(yPoints[j][i])\n",
    "                yield xList, yList\n",
    "\n",
    "            n += 1\n",
    "\n",
    "\n",
    "    def animate2(i):\n",
    "        try:\n",
    "            thisx, thisy = next(dataGen)\n",
    "        except:\n",
    "            thisx, thisy = [], []\n",
    "        ycoordinates.extend(thisy)\n",
    "\n",
    "        line.set_data(thisx, thisy)\n",
    "        time_text.set_text(time_template.format(int(i/steps), i%steps,test.fluxCounter))\n",
    "\n",
    "\n",
    "        return line, time_text\n",
    "\n",
    "\n",
    "\n",
    "    # Parameters\n",
    "#     N, M = 40, 3 # Amount of cells needed for the CA\n",
    "#     carnum = 10 # Number of cars to add to the CA\n",
    "#     pSlow = 0.1\n",
    "#     maxVel = 5\n",
    "#     pChange = 0.2\n",
    "#     strategy = 'mike' # random, mike\n",
    "    animatie = True\n",
    "\n",
    "    # Starting cars\n",
    "    start = generateStart(N, M, carnum, maxVel)\n",
    "\n",
    "\n",
    "    # Create a CA object\n",
    "    test = CAtwoD(N, M, start, pSlow, maxVel, pChange, strategy)\n",
    "\n",
    "\n",
    "\n",
    "    if animatie == False:\n",
    "        # Show results\n",
    "        timesteps = 1000\n",
    "        averageVeloList = []\n",
    "        for i in range(timesteps):\n",
    "            test.updateGrid()\n",
    "            averageVeloList.append(test.returnAverageVelocity())\n",
    "        print('Flow rate = ', test.fluxCounter/timesteps)\n",
    "        print('Average velocity = ', np.mean(averageVeloList))\n",
    "\n",
    "\n",
    "\n",
    "\n",
    "    xmin, xmax, ymin, ymax = 0, 10, -0.5, 0.5  # For plotting\n",
    "    ycoordinates = []\n",
    "    # Find the translations for plotting the grid\n",
    "    coors,dx,dy,trans = findCoors(N, M, xmin, xmax, ymin, ymax)\n",
    "\n",
    "\n",
    "    # These are variables for the plotting stuff\n",
    "    steps = 30\n",
    "    lim = 500\n",
    "\n",
    "    if animatie:\n",
    "        dataGen = animateDataGen(lim)\n",
    "        fig = plt.figure()\n",
    "        ax = fig.add_subplot(111, autoscale_on=False, xlim=(xmin, xmax), ylim=(ymin, ymax))\n",
    "\n",
    "        # Paint a background grid..\n",
    "        for i in coors:\n",
    "            ax.add_patch(\n",
    "                    patches.Rectangle(\n",
    "                i,   # (x,y)\n",
    "                dx,          # width\n",
    "                dy,          # height\n",
    "                color='black', \n",
    "                    fill=False\n",
    "            )\n",
    "        )\n",
    "\n",
    "        line, = ax.plot([], [], 'rs', markersize=xmax/(0.05*N))\n",
    "        time_template = 'timestep {0}, frame {1}, Counter {2}'\n",
    "        time_text = ax.text(0.05, 0.9, '', transform=ax.transAxes)\n",
    "        plt.axis('equal')\n",
    "\n",
    "\n",
    "        ani = animation.FuncAnimation(fig, animate2, lim*(steps-1),\n",
    "                                               interval=3, blit=True, init_func=init, repeat=False)\n",
    "        return ani\n",
    "\n",
    "    # \tHTML(ani.to_html5_video())"
   ]
  },
  {
   "cell_type": "code",
   "execution_count": 4,
   "metadata": {
    "collapsed": true,
    "extensions": {
     "jupyter_dashboards": {
      "version": 1,
      "views": {
       "grid_default": {
        "hidden": true
       },
       "report_default": {
        "hidden": true
       }
      }
     }
    }
   },
   "outputs": [],
   "source": [
    "# animationShow(40,3, 20, 0.1, 0.1, 'mike', 5)"
   ]
  },
  {
   "cell_type": "code",
   "execution_count": 5,
   "metadata": {
    "extensions": {
     "jupyter_dashboards": {
      "version": 1,
      "views": {
       "grid_default": {
        "col": 4,
        "height": 27,
        "hidden": false,
        "row": 8,
        "width": 8
       },
       "report_default": {
        "hidden": true
       }
      }
     }
    }
   },
   "outputs": [
    {
     "data": {
      "application/vnd.jupyter.widget-view+json": {
       "model_id": "8dcd633484e1463989098e85dec73df8"
      }
     },
     "metadata": {},
     "output_type": "display_data"
    }
   ],
   "source": [
    "\n",
    "interact_manual(animationShow, \n",
    "        N=widgets.IntSlider(min=20,max=80,step=1,value=20),\n",
    "        M=widgets.IntSlider(min=1,max=4,step=1,value=2),\n",
    "        carnum=widgets.IntSlider(min=1,max=320,step=1,value=2),\n",
    "        pChange=(0.0,1.0,0.01),\n",
    "        pSlow=(0.0,1.0,0.01),\n",
    "        maxVel=widgets.IntSlider(min=1,max=10,step=1,value=5),\n",
    "        strategy=['random', 'mike']\n",
    "        );"
   ]
  },
  {
   "cell_type": "code",
   "execution_count": null,
   "metadata": {
    "collapsed": true,
    "extensions": {
     "jupyter_dashboards": {
      "version": 1,
      "views": {
       "grid_default": {
        "hidden": true
       },
       "report_default": {
        "hidden": true
       }
      }
     }
    }
   },
   "outputs": [],
   "source": []
  },
  {
   "cell_type": "code",
   "execution_count": null,
   "metadata": {
    "collapsed": true,
    "extensions": {
     "jupyter_dashboards": {
      "version": 1,
      "views": {
       "grid_default": {
        "hidden": true
       },
       "report_default": {
        "hidden": true
       }
      }
     }
    }
   },
   "outputs": [],
   "source": []
  }
 ],
 "metadata": {
  "extensions": {
   "jupyter_dashboards": {
    "activeView": "grid_default",
    "version": 1,
    "views": {
     "grid_default": {
      "cellMargin": 10,
      "defaultCellHeight": 20,
      "maxColumns": 12,
      "name": "grid",
      "type": "grid"
     },
     "report_default": {
      "name": "report",
      "type": "report"
     }
    }
   }
  },
  "kernelspec": {
   "display_name": "Python 3",
   "language": "python",
   "name": "python3"
  },
  "language_info": {
   "codemirror_mode": {
    "name": "ipython",
    "version": 3
   },
   "file_extension": ".py",
   "mimetype": "text/x-python",
   "name": "python",
   "nbconvert_exporter": "python",
   "pygments_lexer": "ipython3",
   "version": "3.6.1"
  }
 },
 "nbformat": 4,
 "nbformat_minor": 2
}
